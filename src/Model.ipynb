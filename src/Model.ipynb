{
 "cells": [
  {
   "cell_type": "code",
   "execution_count": 1,
   "metadata": {},
   "outputs": [],
   "source": [
    "import sklearn\n",
    "import xgboost\n",
    "import pandas as pd\n",
    "import scipy\n",
    "import numpy as np\n",
    "import _pickle as cPickle\n",
    "from sklearn.pipeline import Pipeline\n",
    "from sklearn.preprocessing import OneHotEncoder, StandardScaler\n",
    "from sklearn.compose import ColumnTransformer\n",
    "from sklearn.metrics import (\n",
    "    auc,\n",
    "    accuracy_score,\n",
    "    confusion_matrix,\n",
    "    mean_squared_error,\n",
    "    r2_score,\n",
    ")\n",
    "from sklearn.model_selection import (\n",
    "    cross_val_score,\n",
    "    GridSearchCV,\n",
    "    KFold,\n",
    "    RandomizedSearchCV,\n",
    "    train_test_split,\n",
    ")\n",
    "import xgboost as xgb\n",
    "from scipy.stats import uniform, randint\n"
   ]
  },
  {
   "cell_type": "code",
   "execution_count": 2,
   "metadata": {},
   "outputs": [],
   "source": [
    "with open(r\"../Data/test_optimize.pickle\", \"rb\") as inputfile:\n",
    "    df = cPickle.load(inputfile)\n"
   ]
  },
  {
   "cell_type": "code",
   "execution_count": 3,
   "metadata": {},
   "outputs": [
    {
     "name": "stdout",
     "output_type": "stream",
     "text": [
      "(532, 131)\n"
     ]
    }
   ],
   "source": [
    "y = df.pop(\"FPL_points\")\n",
    "df = df.T.reset_index(drop=True).T\n",
    "\n",
    "numeric_features = df.T[2:].T.columns.to_list()\n",
    "numeric_transformer = StandardScaler()\n",
    "\n",
    "categorical_features = df.T[:2].T.columns.to_list()\n",
    "categorical_transformer = OneHotEncoder(handle_unknown='ignore')\n",
    "\n",
    "\n",
    "X = df[categorical_features+numeric_features]\n",
    "\n",
    "print(X.shape)\n",
    "\n",
    "\n",
    "preprocessor = ColumnTransformer(\n",
    "    transformers = [\n",
    "        ('num', numeric_transformer, numeric_features),\n",
    "        ('cat', categorical_transformer, categorical_features)\n",
    "    ]\n",
    ")\n",
    "\n",
    "model = Pipeline(\n",
    "    steps = [\n",
    "        ('preprocessor', preprocessor),\n",
    "        ('model', xgb.XGBRegressor())\n",
    "    ]\n",
    ")\n",
    "X_train, X_test, y_train, y_test = train_test_split(X, y, test_size = 0.2, random_state = 0)\n"
   ]
  },
  {
   "cell_type": "code",
   "execution_count": 4,
   "metadata": {},
   "outputs": [],
   "source": [
    "def report_best_scores(results, n_top=3):\n",
    "    for i in range(1, n_top + 1):\n",
    "        candidates = np.flatnonzero(results['rank_test_score'] == i)\n",
    "        for candidate in candidates:\n",
    "            print(\"Model with rank: {0}\".format(i))\n",
    "            print(\"Mean validation score: {0:.3f} (std: {1:.3f})\".format(\n",
    "                  results['mean_test_score'][candidate],\n",
    "                  results['std_test_score'][candidate]))\n",
    "            print(\"Parameters: {0}\".format(results['params'][candidate]))\n",
    "            print(\"\")\n",
    "\n",
    "\n",
    "\n",
    "def display_scores(scores):\n",
    "    print(\"Scores: {0}\\nMean: {1:.3f}\\nStd: {2:.3f}\".format(scores, np.mean(scores), np.std(scores)))\n",
    "\n"
   ]
  },
  {
   "cell_type": "code",
   "execution_count": 5,
   "metadata": {},
   "outputs": [
    {
     "name": "stdout",
     "output_type": "stream",
     "text": [
      "Fitting 10 folds for each of 1000 candidates, totalling 10000 fits\n",
      "Model with rank: 1\n",
      "Mean validation score: 0.500 (std: 0.203)\n",
      "Parameters: {'model__colsample_bytree': 0.867380551004832, 'model__gamma': 0.03592961391047372, 'model__learning_rate': 0.040134915053390535, 'model__max_depth': 2, 'model__n_estimators': 108, 'model__subsample': 0.9109644195547812}\n",
      "\n",
      "Model with rank: 2\n",
      "Mean validation score: 0.495 (std: 0.201)\n",
      "Parameters: {'model__colsample_bytree': 0.7426914163587637, 'model__gamma': 0.19740457924348037, 'model__learning_rate': 0.08368080320769633, 'model__max_depth': 2, 'model__n_estimators': 102, 'model__subsample': 0.6298810235374472}\n",
      "\n",
      "Model with rank: 3\n",
      "Mean validation score: 0.495 (std: 0.196)\n",
      "Parameters: {'model__colsample_bytree': 0.7943815704995927, 'model__gamma': 0.4353718179442924, 'model__learning_rate': 0.032437790762516544, 'model__max_depth': 2, 'model__n_estimators': 118, 'model__subsample': 0.8120542441705603}\n",
      "\n"
     ]
    }
   ],
   "source": [
    "params = {\n",
    "    'model__colsample_bytree' : uniform(0.7, 0.3),\n",
    "    'model__gamma' : uniform(0, 0.5),\n",
    "    'model__learning_rate' : uniform(0.03, 0.3),\n",
    "    'model__max_depth' : randint(2, 6),\n",
    "    'model__n_estimators' : randint(100, 150),\n",
    "    'model__subsample' : uniform(0.6, 0.4)\n",
    "}\n",
    "\n",
    "\n",
    "search = RandomizedSearchCV(model, param_distributions=params, random_state=3791, n_iter=1000, cv=10, verbose=1, return_train_score=True)\n",
    "\n",
    "search.fit(X_train, y_train)\n",
    "\n",
    "report_best_scores(search.cv_results_)\n"
   ]
  },
  {
   "cell_type": "code",
   "execution_count": 6,
   "metadata": {},
   "outputs": [
    {
     "data": {
      "text/plain": [
       "1024.623803328373"
      ]
     },
     "execution_count": 6,
     "metadata": {},
     "output_type": "execute_result"
    }
   ],
   "source": [
    "y_pred = search.best_estimator_.predict(X_test)\n",
    "\n",
    "mse = mean_squared_error(y_test, y_pred)\n",
    "mse\n"
   ]
  },
  {
   "cell_type": "code",
   "execution_count": 7,
   "metadata": {},
   "outputs": [
    {
     "data": {
      "text/plain": [
       "32.00974544304239"
      ]
     },
     "execution_count": 7,
     "metadata": {},
     "output_type": "execute_result"
    }
   ],
   "source": [
    "rmse = mean_squared_error(y_test, y_pred, squared=False)\n",
    "rmse"
   ]
  },
  {
   "cell_type": "code",
   "execution_count": 8,
   "metadata": {},
   "outputs": [
    {
     "data": {
      "text/plain": [
       "0.5561560230398466"
      ]
     },
     "execution_count": 8,
     "metadata": {},
     "output_type": "execute_result"
    }
   ],
   "source": [
    "r2 = r2_score(y_test, y_pred)\n",
    "r2"
   ]
  },
  {
   "cell_type": "code",
   "execution_count": 9,
   "metadata": {},
   "outputs": [],
   "source": [
    "check = pd.DataFrame([y_pred, y_test], columns=y_test.index, index=['predict', 'test']).T"
   ]
  },
  {
   "cell_type": "code",
   "execution_count": 10,
   "metadata": {},
   "outputs": [
    {
     "data": {
      "text/html": [
       "<div>\n",
       "<style scoped>\n",
       "    .dataframe tbody tr th:only-of-type {\n",
       "        vertical-align: middle;\n",
       "    }\n",
       "\n",
       "    .dataframe tbody tr th {\n",
       "        vertical-align: top;\n",
       "    }\n",
       "\n",
       "    .dataframe thead th {\n",
       "        text-align: right;\n",
       "    }\n",
       "</style>\n",
       "<table border=\"1\" class=\"dataframe\">\n",
       "  <thead>\n",
       "    <tr style=\"text-align: right;\">\n",
       "      <th></th>\n",
       "      <th>predict</th>\n",
       "      <th>test</th>\n",
       "    </tr>\n",
       "  </thead>\n",
       "  <tbody>\n",
       "    <tr>\n",
       "      <th>318</th>\n",
       "      <td>99.613640</td>\n",
       "      <td>154.0</td>\n",
       "    </tr>\n",
       "    <tr>\n",
       "      <th>501</th>\n",
       "      <td>76.482697</td>\n",
       "      <td>144.0</td>\n",
       "    </tr>\n",
       "    <tr>\n",
       "      <th>66</th>\n",
       "      <td>106.940025</td>\n",
       "      <td>141.0</td>\n",
       "    </tr>\n",
       "    <tr>\n",
       "      <th>155</th>\n",
       "      <td>79.218300</td>\n",
       "      <td>135.0</td>\n",
       "    </tr>\n",
       "    <tr>\n",
       "      <th>518</th>\n",
       "      <td>118.022896</td>\n",
       "      <td>134.0</td>\n",
       "    </tr>\n",
       "    <tr>\n",
       "      <th>...</th>\n",
       "      <td>...</td>\n",
       "      <td>...</td>\n",
       "    </tr>\n",
       "    <tr>\n",
       "      <th>144</th>\n",
       "      <td>42.344116</td>\n",
       "      <td>0.0</td>\n",
       "    </tr>\n",
       "    <tr>\n",
       "      <th>107</th>\n",
       "      <td>42.964386</td>\n",
       "      <td>0.0</td>\n",
       "    </tr>\n",
       "    <tr>\n",
       "      <th>441</th>\n",
       "      <td>65.967751</td>\n",
       "      <td>0.0</td>\n",
       "    </tr>\n",
       "    <tr>\n",
       "      <th>102</th>\n",
       "      <td>43.934017</td>\n",
       "      <td>0.0</td>\n",
       "    </tr>\n",
       "    <tr>\n",
       "      <th>407</th>\n",
       "      <td>79.056702</td>\n",
       "      <td>0.0</td>\n",
       "    </tr>\n",
       "  </tbody>\n",
       "</table>\n",
       "<p>107 rows × 2 columns</p>\n",
       "</div>"
      ],
      "text/plain": [
       "        predict   test\n",
       "318   99.613640  154.0\n",
       "501   76.482697  144.0\n",
       "66   106.940025  141.0\n",
       "155   79.218300  135.0\n",
       "518  118.022896  134.0\n",
       "..          ...    ...\n",
       "144   42.344116    0.0\n",
       "107   42.964386    0.0\n",
       "441   65.967751    0.0\n",
       "102   43.934017    0.0\n",
       "407   79.056702    0.0\n",
       "\n",
       "[107 rows x 2 columns]"
      ]
     },
     "execution_count": 10,
     "metadata": {},
     "output_type": "execute_result"
    }
   ],
   "source": [
    "check.sort_values(by='test', ascending=False)"
   ]
  }
 ],
 "metadata": {
  "kernelspec": {
   "display_name": "FPL",
   "language": "python",
   "name": "python3"
  },
  "language_info": {
   "codemirror_mode": {
    "name": "ipython",
    "version": 3
   },
   "file_extension": ".py",
   "mimetype": "text/x-python",
   "name": "python",
   "nbconvert_exporter": "python",
   "pygments_lexer": "ipython3",
   "version": "3.10.8"
  },
  "orig_nbformat": 4,
  "vscode": {
   "interpreter": {
    "hash": "90a7511018382100f99fbec5dd862156a5a55a1c910c3ea6d0786b8451725d06"
   }
  }
 },
 "nbformat": 4,
 "nbformat_minor": 2
}
