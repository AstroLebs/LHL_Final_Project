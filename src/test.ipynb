{
 "cells": [
  {
   "cell_type": "markdown",
   "metadata": {},
   "source": [
    "import main\n",
    "main.main()"
   ]
  },
  {
   "cell_type": "code",
   "execution_count": 1,
   "metadata": {
    "vscode": {
     "languageId": "python"
    }
   },
   "outputs": [],
   "source": [
    "import pickle\n",
    "\n",
    "file_path = '../Data/data.pickle'\n",
    "\n",
    "with open(file_path, 'rb') as f:\n",
    "    data = pickle.load(f)"
   ]
  },
  {
   "cell_type": "code",
   "execution_count": 2,
   "metadata": {},
   "outputs": [
    {
     "data": {
      "text/plain": [
       "dict_keys(['MF', 'FW', 'FB', 'GK', 'AM', 'CB'])"
      ]
     },
     "execution_count": 2,
     "metadata": {},
     "output_type": "execute_result"
    }
   ],
   "source": [
    "data.keys()"
   ]
  },
  {
   "cell_type": "code",
   "execution_count": 3,
   "metadata": {},
   "outputs": [],
   "source": [
    "import pandas as pd"
   ]
  },
  {
   "cell_type": "code",
   "execution_count": 4,
   "metadata": {},
   "outputs": [],
   "source": [
    "df = pd.DataFrame(data)"
   ]
  },
  {
   "cell_type": "code",
   "execution_count": 5,
   "metadata": {},
   "outputs": [],
   "source": [
    "from modules import data_collection"
   ]
  },
  {
   "cell_type": "code",
   "execution_count": 6,
   "metadata": {},
   "outputs": [],
   "source": [
    "current = data_collection.get_current_fpl()[0]"
   ]
  },
  {
   "cell_type": "code",
   "execution_count": 7,
   "metadata": {},
   "outputs": [
    {
     "data": {
      "text/html": [
       "<div>\n",
       "<style scoped>\n",
       "    .dataframe tbody tr th:only-of-type {\n",
       "        vertical-align: middle;\n",
       "    }\n",
       "\n",
       "    .dataframe tbody tr th {\n",
       "        vertical-align: top;\n",
       "    }\n",
       "\n",
       "    .dataframe thead th {\n",
       "        text-align: right;\n",
       "    }\n",
       "</style>\n",
       "<table border=\"1\" class=\"dataframe\">\n",
       "  <thead>\n",
       "    <tr style=\"text-align: right;\">\n",
       "      <th></th>\n",
       "      <th>web_name</th>\n",
       "      <th>element_type</th>\n",
       "    </tr>\n",
       "  </thead>\n",
       "  <tbody>\n",
       "    <tr>\n",
       "      <th>251</th>\n",
       "      <td>Ward</td>\n",
       "      <td>2</td>\n",
       "    </tr>\n",
       "  </tbody>\n",
       "</table>\n",
       "</div>"
      ],
      "text/plain": [
       "    web_name  element_type\n",
       "251     Ward             2"
      ]
     },
     "execution_count": 7,
     "metadata": {},
     "output_type": "execute_result"
    }
   ],
   "source": [
    "current[['web_name', 'element_type']].loc[current['web_name'] == 'Ward']"
   ]
  },
  {
   "cell_type": "code",
   "execution_count": 8,
   "metadata": {},
   "outputs": [
    {
     "data": {
      "text/plain": [
       "96"
      ]
     },
     "execution_count": 8,
     "metadata": {},
     "output_type": "execute_result"
    }
   ],
   "source": [
    "df['AM'].count()"
   ]
  },
  {
   "cell_type": "code",
   "execution_count": 9,
   "metadata": {},
   "outputs": [
    {
     "data": {
      "text/plain": [
       "114"
      ]
     },
     "execution_count": 9,
     "metadata": {},
     "output_type": "execute_result"
    }
   ],
   "source": [
    "df['MF'].count()"
   ]
  },
  {
   "cell_type": "code",
   "execution_count": null,
   "metadata": {},
   "outputs": [],
   "source": []
  },
  {
   "cell_type": "code",
   "execution_count": 10,
   "metadata": {},
   "outputs": [],
   "source": [
    "MF = df['MF'].fillna(df['AM']).dropna()"
   ]
  },
  {
   "cell_type": "code",
   "execution_count": 11,
   "metadata": {},
   "outputs": [],
   "source": [
    "FB = df['FB'].fillna(df['CB']).dropna()"
   ]
  },
  {
   "cell_type": "code",
   "execution_count": 12,
   "metadata": {},
   "outputs": [],
   "source": [
    "FW = df['FW'].dropna()\n",
    "GK = df['GK'].dropna()"
   ]
  },
  {
   "cell_type": "code",
   "execution_count": 13,
   "metadata": {},
   "outputs": [],
   "source": [
    "MF = MF.apply(lambda x: pd.Series(x))"
   ]
  },
  {
   "cell_type": "code",
   "execution_count": 14,
   "metadata": {},
   "outputs": [],
   "source": [
    "mf_names = MF[0].apply(lambda x: x.split('/')[-1].replace('-',' '))"
   ]
  },
  {
   "cell_type": "code",
   "execution_count": 15,
   "metadata": {},
   "outputs": [],
   "source": [
    "MF = MF[1].apply(pd.Series).set_index(mf_names)"
   ]
  },
  {
   "cell_type": "code",
   "execution_count": 16,
   "metadata": {},
   "outputs": [],
   "source": [
    "curr_test = current[['total_points', 'element_type', 'first_name','second_name','web_name']]"
   ]
  },
  {
   "cell_type": "code",
   "execution_count": 17,
   "metadata": {},
   "outputs": [],
   "source": [
    "curr_test.set_index(curr_test['first_name']+' '+curr_test['second_name'], inplace = True)"
   ]
  },
  {
   "cell_type": "code",
   "execution_count": 18,
   "metadata": {},
   "outputs": [],
   "source": [
    "MF = pd.merge(MF, curr_test[['total_points','element_type']], left_index = True, right_index = True)"
   ]
  },
  {
   "cell_type": "code",
   "execution_count": 19,
   "metadata": {},
   "outputs": [
    {
     "data": {
      "text/html": [
       "<div>\n",
       "<style scoped>\n",
       "    .dataframe tbody tr th:only-of-type {\n",
       "        vertical-align: middle;\n",
       "    }\n",
       "\n",
       "    .dataframe tbody tr th {\n",
       "        vertical-align: top;\n",
       "    }\n",
       "\n",
       "    .dataframe thead th {\n",
       "        text-align: right;\n",
       "    }\n",
       "</style>\n",
       "<table border=\"1\" class=\"dataframe\">\n",
       "  <thead>\n",
       "    <tr style=\"text-align: right;\">\n",
       "      <th></th>\n",
       "      <th>total_points</th>\n",
       "      <th>element_type</th>\n",
       "      <th>first_name</th>\n",
       "      <th>second_name</th>\n",
       "      <th>web_name</th>\n",
       "    </tr>\n",
       "  </thead>\n",
       "  <tbody>\n",
       "    <tr>\n",
       "      <th>Abdoulaye Doucouré</th>\n",
       "      <td>76</td>\n",
       "      <td>3</td>\n",
       "      <td>Abdoulaye</td>\n",
       "      <td>Doucouré</td>\n",
       "      <td>A.Doucoure</td>\n",
       "    </tr>\n",
       "    <tr>\n",
       "      <th>Adam Lallana</th>\n",
       "      <td>47</td>\n",
       "      <td>3</td>\n",
       "      <td>Adam</td>\n",
       "      <td>Lallana</td>\n",
       "      <td>Lallana</td>\n",
       "    </tr>\n",
       "    <tr>\n",
       "      <th>Albert Sambi Lokonga</th>\n",
       "      <td>23</td>\n",
       "      <td>3</td>\n",
       "      <td>Albert</td>\n",
       "      <td>Sambi Lokonga</td>\n",
       "      <td>Sambi</td>\n",
       "    </tr>\n",
       "    <tr>\n",
       "      <th>Alejandro Garnacho</th>\n",
       "      <td>39</td>\n",
       "      <td>3</td>\n",
       "      <td>Alejandro</td>\n",
       "      <td>Garnacho</td>\n",
       "      <td>Garnacho</td>\n",
       "    </tr>\n",
       "    <tr>\n",
       "      <th>Alex Iwobi</th>\n",
       "      <td>126</td>\n",
       "      <td>3</td>\n",
       "      <td>Alex</td>\n",
       "      <td>Iwobi</td>\n",
       "      <td>Iwobi</td>\n",
       "    </tr>\n",
       "    <tr>\n",
       "      <th>...</th>\n",
       "      <td>...</td>\n",
       "      <td>...</td>\n",
       "      <td>...</td>\n",
       "      <td>...</td>\n",
       "      <td>...</td>\n",
       "    </tr>\n",
       "    <tr>\n",
       "      <th>Yasin Ayari</th>\n",
       "      <td>3</td>\n",
       "      <td>3</td>\n",
       "      <td>Yasin</td>\n",
       "      <td>Ayari</td>\n",
       "      <td>Ayari</td>\n",
       "    </tr>\n",
       "    <tr>\n",
       "      <th>Yegor Yarmolyuk</th>\n",
       "      <td>0</td>\n",
       "      <td>3</td>\n",
       "      <td>Yegor</td>\n",
       "      <td>Yarmolyuk</td>\n",
       "      <td>Yarmolyuk</td>\n",
       "    </tr>\n",
       "    <tr>\n",
       "      <th>Youri Tielemans</th>\n",
       "      <td>86</td>\n",
       "      <td>3</td>\n",
       "      <td>Youri</td>\n",
       "      <td>Tielemans</td>\n",
       "      <td>Tielemans</td>\n",
       "    </tr>\n",
       "    <tr>\n",
       "      <th>Yves Bissouma</th>\n",
       "      <td>27</td>\n",
       "      <td>3</td>\n",
       "      <td>Yves</td>\n",
       "      <td>Bissouma</td>\n",
       "      <td>Bissouma</td>\n",
       "    </tr>\n",
       "    <tr>\n",
       "      <th>Ângelo Gabriel Borges Damaceno</th>\n",
       "      <td>0</td>\n",
       "      <td>3</td>\n",
       "      <td>Ângelo Gabriel</td>\n",
       "      <td>Borges Damaceno</td>\n",
       "      <td>Ângelo</td>\n",
       "    </tr>\n",
       "  </tbody>\n",
       "</table>\n",
       "<p>257 rows × 5 columns</p>\n",
       "</div>"
      ],
      "text/plain": [
       "                                total_points  element_type      first_name  \\\n",
       "Abdoulaye Doucouré                        76             3       Abdoulaye   \n",
       "Adam Lallana                              47             3            Adam   \n",
       "Albert Sambi Lokonga                      23             3          Albert   \n",
       "Alejandro Garnacho                        39             3       Alejandro   \n",
       "Alex Iwobi                               126             3            Alex   \n",
       "...                                      ...           ...             ...   \n",
       "Yasin Ayari                                3             3           Yasin   \n",
       "Yegor Yarmolyuk                            0             3           Yegor   \n",
       "Youri Tielemans                           86             3           Youri   \n",
       "Yves Bissouma                             27             3            Yves   \n",
       "Ângelo Gabriel Borges Damaceno             0             3  Ângelo Gabriel   \n",
       "\n",
       "                                    second_name    web_name  \n",
       "Abdoulaye Doucouré                     Doucouré  A.Doucoure  \n",
       "Adam Lallana                            Lallana     Lallana  \n",
       "Albert Sambi Lokonga              Sambi Lokonga       Sambi  \n",
       "Alejandro Garnacho                     Garnacho    Garnacho  \n",
       "Alex Iwobi                                Iwobi       Iwobi  \n",
       "...                                         ...         ...  \n",
       "Yasin Ayari                               Ayari       Ayari  \n",
       "Yegor Yarmolyuk                       Yarmolyuk   Yarmolyuk  \n",
       "Youri Tielemans                       Tielemans   Tielemans  \n",
       "Yves Bissouma                          Bissouma    Bissouma  \n",
       "Ângelo Gabriel Borges Damaceno  Borges Damaceno      Ângelo  \n",
       "\n",
       "[257 rows x 5 columns]"
      ]
     },
     "execution_count": 19,
     "metadata": {},
     "output_type": "execute_result"
    }
   ],
   "source": [
    "curr_test.loc[curr_test.element_type == 3].sort_index()"
   ]
  },
  {
   "cell_type": "code",
   "execution_count": 20,
   "metadata": {},
   "outputs": [],
   "source": [
    "MF_df = pd.merge(MF, curr_test, left_index = True, right_index = True)"
   ]
  },
  {
   "cell_type": "code",
   "execution_count": null,
   "metadata": {},
   "outputs": [],
   "source": []
  }
 ],
 "metadata": {
  "kernelspec": {
   "display_name": "Python 3 (ipykernel)",
   "language": "python",
   "name": "python3"
  },
  "language_info": {
   "codemirror_mode": {
    "name": "ipython",
    "version": 3
   },
   "file_extension": ".py",
   "mimetype": "text/x-python",
   "name": "python",
   "nbconvert_exporter": "python",
   "pygments_lexer": "ipython3",
   "version": "3.9.12"
  },
  "vscode": {
   "interpreter": {
    "hash": "90a7511018382100f99fbec5dd862156a5a55a1c910c3ea6d0786b8451725d06"
   }
  }
 },
 "nbformat": 4,
 "nbformat_minor": 4
}
