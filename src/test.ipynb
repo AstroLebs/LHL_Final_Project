{
 "cells": [
  {
   "cell_type": "code",
   "execution_count": 1,
   "metadata": {},
   "outputs": [],
   "source": [
    "from modules import data_collection, models, optimizer, data_cleaning\n",
    "import pandas as pd\n",
    "import _pickle as cPickle"
   ]
  },
  {
   "cell_type": "code",
   "execution_count": 2,
   "metadata": {},
   "outputs": [],
   "source": [
    "with open(r\"../Data/FBREF_22_23.pickle\", \"rb\") as inputfile:\n",
    "    df = cPickle.load(inputfile)"
   ]
  },
  {
   "cell_type": "code",
   "execution_count": 3,
   "metadata": {},
   "outputs": [
    {
     "name": "stdout",
     "output_type": "stream",
     "text": [
      "Fitting 10 folds for each of 100 candidates, totalling 1000 fits\n"
     ]
    }
   ],
   "source": [
    "search, y_pred, mse, rmse, r2 = models.model(df.drop([\"Player\",\"Cost\"], axis = 1))"
   ]
  },
  {
   "cell_type": "code",
   "execution_count": 4,
   "metadata": {},
   "outputs": [
    {
     "name": "stdout",
     "output_type": "stream",
     "text": [
      "274.5887225594264\n",
      "16.570718830498162\n",
      "0.44440420707976236\n"
     ]
    }
   ],
   "source": [
    "for i in [mse, rmse, r2]:\n",
    "    print(i)"
   ]
  },
  {
   "cell_type": "code",
   "execution_count": null,
   "metadata": {},
   "outputs": [],
   "source": []
  },
  {
   "cell_type": "code",
   "execution_count": 5,
   "metadata": {},
   "outputs": [],
   "source": [
    "expected_scores = search.best_estimator_.predict(df.drop([\"Player\",\"Cost\"], axis = 1))\n",
    "prices = (df.Cost / 10).to_list()\n",
    "position = df.Position.map({'GK':1, 'DEF':2, 'MID':3, 'FWD':4}).to_list()\n",
    "team = df.Squad.to_list()\n",
    "names = df.Player.to_list()"
   ]
  },
  {
   "cell_type": "code",
   "execution_count": 7,
   "metadata": {},
   "outputs": [
    {
     "name": "stdout",
     "output_type": "stream",
     "text": [
      "325\n",
      "Welcome to the CBC MILP Solver \n",
      "Version: 2.10.3 \n",
      "Build Date: Dec 15 2019 \n",
      "\n",
      "command line - /home/caleb/PythonEnvs/FPL/lib/python3.10/site-packages/pulp/solverdir/cbc/linux/64/cbc /tmp/2e7806352b3c4a9a9b2df99063ab3e19-pulp.mps max timeMode elapsed branch printingOptions all solution /tmp/2e7806352b3c4a9a9b2df99063ab3e19-pulp.sol (default strategy 1)\n",
      "At line 2 NAME          MODEL\n",
      "At line 3 ROWS\n",
      "At line 689 COLUMNS\n",
      "At line 8141 RHS\n",
      "At line 8826 BOUNDS\n",
      "At line 9802 ENDATA\n",
      "Problem MODEL has 684 rows, 975 columns and 4526 elements\n",
      "Coin0008I MODEL read with 0 errors\n",
      "Option for timeMode changed from cpu to elapsed\n",
      "Continuous objective value is 867.191 - 0.00 seconds\n",
      "Cgl0004I processed model has 680 rows, 975 columns (975 integer (975 of which binary)) and 4223 elements\n",
      "Cbc0038I Initial state - 2 integers unsatisfied sum - 0.571429\n",
      "Cbc0038I Pass   1: suminf.    0.27027 (2) obj. -861.215 iterations 15\n",
      "Cbc0038I Solution found of -810.73\n",
      "Cbc0038I Before mini branch and bound, 972 integers at bound fixed and 0 continuous\n",
      "Cbc0038I Full problem 680 rows 975 columns, reduced to 0 rows 0 columns\n",
      "Cbc0038I Mini branch and bound improved solution from -810.73 to -862.408 (0.02 seconds)\n",
      "Cbc0038I Round again with cutoff of -862.886\n",
      "Cbc0038I Reduced cost fixing fixed 872 variables on major pass 2\n",
      "Cbc0038I Pass   2: suminf.    0.54054 (4) obj. -865.967 iterations 4\n",
      "Cbc0038I Pass   3: suminf.    1.07160 (4) obj. -862.886 iterations 14\n",
      "Cbc0038I Pass   4: suminf.    1.36642 (4) obj. -862.886 iterations 14\n",
      "Cbc0038I Pass   5: suminf.    0.67331 (2) obj. -862.886 iterations 15\n",
      "Cbc0038I Pass   6: suminf.    1.15526 (5) obj. -862.886 iterations 12\n",
      "Cbc0038I Pass   7: suminf.    0.80000 (2) obj. -863.31 iterations 7\n",
      "Cbc0038I Pass   8: suminf.    0.93977 (4) obj. -862.886 iterations 13\n",
      "Cbc0038I Pass   9: suminf.    0.93977 (4) obj. -862.886 iterations 4\n",
      "Cbc0038I Pass  10: suminf.    0.86486 (4) obj. -864.841 iterations 12\n",
      "Cbc0038I Pass  11: suminf.    1.20188 (4) obj. -862.886 iterations 12\n",
      "Cbc0038I Pass  12: suminf.    1.35239 (4) obj. -862.886 iterations 11\n",
      "Cbc0038I Pass  13: suminf.    1.35239 (4) obj. -862.886 iterations 6\n",
      "Cbc0038I Pass  14: suminf.    0.53271 (2) obj. -862.886 iterations 11\n",
      "Cbc0038I Pass  15: suminf.    0.71233 (4) obj. -863.804 iterations 15\n",
      "Cbc0038I Pass  16: suminf.    0.98141 (4) obj. -862.886 iterations 13\n",
      "Cbc0038I Pass  17: suminf.    0.75676 (4) obj. -864.189 iterations 13\n",
      "Cbc0038I Pass  18: suminf.    1.57506 (4) obj. -862.886 iterations 17\n",
      "Cbc0038I Pass  19: suminf.    0.59459 (4) obj. -863.374 iterations 11\n",
      "Cbc0038I Pass  20: suminf.    0.67876 (4) obj. -862.886 iterations 12\n",
      "Cbc0038I Pass  21: suminf.    1.43136 (4) obj. -862.886 iterations 14\n",
      "Cbc0038I Pass  22: suminf.    1.43136 (4) obj. -862.886 iterations 8\n",
      "Cbc0038I Pass  23: suminf.    0.86486 (4) obj. -863.668 iterations 17\n",
      "Cbc0038I Pass  24: suminf.    0.99962 (4) obj. -862.886 iterations 12\n",
      "Cbc0038I Pass  25: suminf.    1.28965 (5) obj. -862.886 iterations 17\n",
      "Cbc0038I Pass  26: suminf.    0.82192 (4) obj. -863.269 iterations 7\n",
      "Cbc0038I Pass  27: suminf.    1.07482 (4) obj. -862.886 iterations 13\n",
      "Cbc0038I Pass  28: suminf.    0.86486 (4) obj. -864.104 iterations 11\n",
      "Cbc0038I Pass  29: suminf.    1.09535 (4) obj. -862.886 iterations 10\n",
      "Cbc0038I Pass  30: suminf.    0.22581 (4) obj. -862.886 iterations 11\n",
      "Cbc0038I Pass  31: suminf.    0.95055 (2) obj. -862.886 iterations 9\n",
      "Cbc0038I Rounding solution of -863.265 is better than previous of -862.408\n",
      "\n",
      "Cbc0038I Before mini branch and bound, 951 integers at bound fixed and 0 continuous\n",
      "Cbc0038I Full problem 680 rows 975 columns, reduced to 7 rows 21 columns\n",
      "Cbc0038I Mini branch and bound improved solution from -863.265 to -864.106 (0.06 seconds)\n",
      "Cbc0038I Round again with cutoff of -864.723\n",
      "Cbc0038I Reduced cost fixing fixed 920 variables on major pass 3\n",
      "Cbc0038I Pass  31: suminf.    0.54054 (4) obj. -865.967 iterations 0\n",
      "Cbc0038I Pass  32: suminf.    0.75493 (4) obj. -864.723 iterations 11\n",
      "Cbc0038I Pass  33: suminf.    1.26931 (4) obj. -864.723 iterations 13\n",
      "Cbc0038I Pass  34: suminf.    0.38911 (5) obj. -864.723 iterations 6\n",
      "Cbc0038I Pass  35: suminf.    1.52509 (4) obj. -864.723 iterations 11\n",
      "Cbc0038I Pass  36: suminf.    1.84034 (4) obj. -864.723 iterations 7\n",
      "Cbc0038I Pass  37: suminf.    1.84034 (4) obj. -864.723 iterations 4\n",
      "Cbc0038I Pass  38: suminf.    0.61712 (2) obj. -864.723 iterations 6\n",
      "Cbc0038I Pass  39: suminf.    0.80434 (5) obj. -864.723 iterations 11\n",
      "Cbc0038I Pass  40: suminf.    0.61712 (2) obj. -864.723 iterations 10\n",
      "Cbc0038I Pass  41: suminf.    1.23961 (4) obj. -864.723 iterations 11\n",
      "Cbc0038I Pass  42: suminf.    1.23961 (4) obj. -864.723 iterations 0\n",
      "Cbc0038I Pass  43: suminf.    0.62653 (2) obj. -864.723 iterations 11\n",
      "Cbc0038I Pass  44: suminf.    0.99941 (5) obj. -864.723 iterations 12\n",
      "Cbc0038I Pass  45: suminf.    0.62653 (2) obj. -864.723 iterations 9\n",
      "Cbc0038I Pass  46: suminf.    1.68209 (4) obj. -864.723 iterations 5\n",
      "Cbc0038I Pass  47: suminf.    1.68209 (4) obj. -864.723 iterations 1\n",
      "Cbc0038I Pass  48: suminf.    0.98460 (4) obj. -864.723 iterations 5\n",
      "Cbc0038I Pass  49: suminf.    0.50350 (5) obj. -864.723 iterations 9\n",
      "Cbc0038I Pass  50: suminf.    1.62804 (4) obj. -864.723 iterations 11\n",
      "Cbc0038I Pass  51: suminf.    0.35873 (2) obj. -864.723 iterations 14\n",
      "Cbc0038I Pass  52: suminf.    0.35873 (2) obj. -864.723 iterations 1\n",
      "Cbc0038I Pass  53: suminf.    0.91892 (4) obj. -864.803 iterations 13\n",
      "Cbc0038I Pass  54: suminf.    0.93270 (4) obj. -864.723 iterations 10\n",
      "Cbc0038I Pass  55: suminf.    1.27753 (4) obj. -864.723 iterations 17\n",
      "Cbc0038I Pass  56: suminf.    0.72713 (3) obj. -864.723 iterations 7\n",
      "Cbc0038I Pass  57: suminf.    0.49315 (4) obj. -865.046 iterations 11\n",
      "Cbc0038I Pass  58: suminf.    0.49315 (4) obj. -865.046 iterations 0\n",
      "Cbc0038I Pass  59: suminf.    0.75493 (4) obj. -864.723 iterations 8\n",
      "Cbc0038I Pass  60: suminf.    0.54054 (4) obj. -865.967 iterations 9\n",
      "Cbc0038I No solution found this major pass\n",
      "Cbc0038I Before mini branch and bound, 955 integers at bound fixed and 0 continuous\n",
      "Cbc0038I Full problem 680 rows 975 columns, reduced to 4 rows 14 columns\n",
      "Cbc0038I Mini branch and bound improved solution from -864.106 to -864.356 (0.11 seconds)\n",
      "Cbc0038I Round again with cutoff of -865.463\n",
      "Cbc0038I Reduced cost fixing fixed 936 variables on major pass 4\n",
      "Cbc0038I Pass  60: suminf.    0.57143 (2) obj. -867.191 iterations 1\n",
      "Cbc0038I Pass  61: suminf.    0.91273 (2) obj. -865.463 iterations 13\n",
      "Cbc0038I Pass  62: suminf.    0.62862 (4) obj. -865.463 iterations 5\n",
      "Cbc0038I Pass  63: suminf.    0.62862 (4) obj. -865.463 iterations 2\n",
      "Cbc0038I Pass  64: suminf.    0.97143 (2) obj. -866.883 iterations 10\n",
      "Cbc0038I Pass  65: suminf.    0.60465 (2) obj. -865.463 iterations 11\n",
      "Cbc0038I Pass  66: suminf.    1.46092 (4) obj. -865.463 iterations 10\n",
      "Cbc0038I Pass  67: suminf.    0.91429 (2) obj. -865.555 iterations 9\n",
      "Cbc0038I Pass  68: suminf.    0.94160 (2) obj. -865.463 iterations 11\n",
      "Cbc0038I Pass  69: suminf.    0.59747 (4) obj. -865.463 iterations 16\n",
      "Cbc0038I Pass  70: suminf.    0.40000 (2) obj. -865.564 iterations 5\n",
      "Cbc0038I Pass  71: suminf.    0.43017 (2) obj. -865.463 iterations 11\n",
      "Cbc0038I Pass  72: suminf.    0.52584 (4) obj. -865.463 iterations 8\n",
      "Cbc0038I Pass  73: suminf.    1.15142 (4) obj. -865.463 iterations 7\n",
      "Cbc0038I Pass  74: suminf.    0.40000 (2) obj. -865.703 iterations 7\n",
      "Cbc0038I Pass  75: suminf.    0.47163 (2) obj. -865.463 iterations 13\n",
      "Cbc0038I Pass  76: suminf.    0.85133 (4) obj. -865.463 iterations 12\n",
      "Cbc0038I Pass  77: suminf.    0.85133 (4) obj. -865.463 iterations 9\n",
      "Cbc0038I Pass  78: suminf.    0.70518 (2) obj. -865.463 iterations 7\n",
      "Cbc0038I Pass  79: suminf.    0.45714 (2) obj. -866.294 iterations 10\n",
      "Cbc0038I Pass  80: suminf.    1.22580 (4) obj. -865.463 iterations 5\n",
      "Cbc0038I Pass  81: suminf.    0.45714 (2) obj. -866.155 iterations 4\n",
      "Cbc0038I Pass  82: suminf.    0.66372 (2) obj. -865.463 iterations 12\n",
      "Cbc0038I Pass  83: suminf.    0.98880 (4) obj. -865.463 iterations 8\n",
      "Cbc0038I Pass  84: suminf.    1.37167 (4) obj. -865.463 iterations 8\n",
      "Cbc0038I Pass  85: suminf.    0.55759 (4) obj. -865.463 iterations 6\n",
      "Cbc0038I Pass  86: suminf.    0.55759 (4) obj. -865.463 iterations 3\n",
      "Cbc0038I Pass  87: suminf.    0.91273 (2) obj. -865.463 iterations 10\n",
      "Cbc0038I Pass  88: suminf.    0.57143 (2) obj. -867.191 iterations 10\n",
      "Cbc0038I Pass  89: suminf.    0.89856 (4) obj. -865.463 iterations 7\n",
      "Cbc0038I No solution found this major pass\n",
      "Cbc0038I Before mini branch and bound, 954 integers at bound fixed and 0 continuous\n",
      "Cbc0038I Full problem 680 rows 975 columns, reduced to 7 rows 18 columns\n",
      "Cbc0038I Mini branch and bound did not improve solution (0.14 seconds)\n",
      "Cbc0038I After 0.14 seconds - Feasibility pump exiting with objective of -864.356 - took 0.12 seconds\n",
      "Cbc0012I Integer solution of -864.35599 found by feasibility pump after 0 iterations and 0 nodes (0.14 seconds)\n",
      "Cbc0038I Full problem 680 rows 975 columns, reduced to 1 rows 2 columns\n",
      "Cbc0013I At root node, 0 cuts changed objective from -867.19053 to -867.19053 in 1 passes\n",
      "Cbc0014I Cut generator 0 (Probing) - 0 row cuts average 0.0 elements, 4 column cuts (4 active)  in 0.000 seconds - new frequency is 1\n",
      "Cbc0014I Cut generator 1 (Gomory) - 0 row cuts average 0.0 elements, 0 column cuts (0 active)  in 0.000 seconds - new frequency is -100\n",
      "Cbc0014I Cut generator 2 (Knapsack) - 0 row cuts average 0.0 elements, 0 column cuts (0 active)  in 0.001 seconds - new frequency is -100\n",
      "Cbc0014I Cut generator 3 (Clique) - 0 row cuts average 0.0 elements, 0 column cuts (0 active)  in 0.000 seconds - new frequency is -100\n",
      "Cbc0014I Cut generator 4 (MixedIntegerRounding2) - 0 row cuts average 0.0 elements, 0 column cuts (0 active)  in 0.000 seconds - new frequency is -100\n",
      "Cbc0014I Cut generator 5 (FlowCover) - 0 row cuts average 0.0 elements, 0 column cuts (0 active)  in 0.000 seconds - new frequency is -100\n",
      "Cbc0016I Integer solution of -864.94912 found by strong branching after 0 iterations and 0 nodes (0.15 seconds)\n",
      "Cbc0010I After 0 nodes, 1 on tree, -864.94912 best solution, best possible -865.98043 (0.15 seconds)\n",
      "Cbc0001I Search completed - best objective -864.9491165161031, took 16 iterations and 2 nodes (0.16 seconds)\n",
      "Cbc0032I Strong branching done 6 times (10 iterations), fathomed 1 nodes and fixed 0 variables\n",
      "Cbc0035I Maximum depth 0, 987 variables fixed on reduced cost\n",
      "Cuts at root node changed objective from -867.191 to -865.98\n",
      "Probing was tried 3 times and created 8 cuts of which 0 were active after adding rounds of cuts (0.001 seconds)\n",
      "Gomory was tried 1 times and created 0 cuts of which 0 were active after adding rounds of cuts (0.000 seconds)\n",
      "Knapsack was tried 1 times and created 0 cuts of which 0 were active after adding rounds of cuts (0.001 seconds)\n",
      "Clique was tried 1 times and created 0 cuts of which 0 were active after adding rounds of cuts (0.000 seconds)\n",
      "MixedIntegerRounding2 was tried 1 times and created 0 cuts of which 0 were active after adding rounds of cuts (0.000 seconds)\n",
      "FlowCover was tried 1 times and created 0 cuts of which 0 were active after adding rounds of cuts (0.000 seconds)\n",
      "TwoMirCuts was tried 1 times and created 0 cuts of which 0 were active after adding rounds of cuts (0.000 seconds)\n",
      "ZeroHalf was tried 1 times and created 0 cuts of which 0 were active after adding rounds of cuts (0.000 seconds)\n",
      "\n",
      "Result - Optimal solution found\n",
      "\n",
      "Objective value:                864.94911652\n",
      "Enumerated nodes:               2\n",
      "Total iterations:               16\n",
      "Time (CPU seconds):             0.14\n",
      "Time (Wallclock seconds):       0.16\n",
      "\n",
      "Option for printingOptions changed from normal to all\n",
      "Total time (CPU seconds):       0.15   (Wallclock seconds):       0.17\n",
      "\n"
     ]
    }
   ],
   "source": [
    "import importlib as imp\n",
    "\n",
    "imp.reload(optimizer)\n",
    "\n",
    "decisions, captain_decisions, sub_decisions = optimizer.select_team(\n",
    "    expected_scores, prices, position, team\n",
    ")"
   ]
  },
  {
   "cell_type": "code",
   "execution_count": 8,
   "metadata": {},
   "outputs": [
    {
     "name": "stdout",
     "output_type": "stream",
     "text": [
      "Timothy Castagne DEF: 49.77616882324219 points at $4.7\n",
      "Kevin De Bruyne MID: 82.77982330322266 points at $12.6\n",
      "Roberto Firmino FWD: 56.38548278808594 points at $8.1\n",
      "James Maddison MID: 73.58306121826172 points at $8.2\n",
      "Mason Mount MID: 73.53397369384766 points at $7.5\n",
      "Nick Pope GK: 58.36415481567383 points at $5.3\n",
      "Fabian Schär DEF: 53.404273986816406 points at $4.9\n",
      "Ivan Toney FWD: 74.33267211914062 points at $7.4\n",
      "Kieran Trippier DEF: 75.52534484863281 points at $5.9\n",
      "Leandro Trossard MID: 72.80774688720703 points at $7.1\n",
      "Martin Ødegaard MID: 73.09465026855469 points at $6.4\n",
      "subs\n",
      "Eric Dier DEF: 47.24419021606445 points at $5.2\n",
      "Ben Mee DEF: 45.99644088745117 points at $4.6\n",
      "Jordan Pickford GK: 51.75877380371094 points at $4.5\n",
      "Callum Wilson FWD: 47.91029739379883 points at $7.4\n"
     ]
    }
   ],
   "source": [
    "pos_map = {1:'GK', 2:'DEF', 3: 'MID', 4:'FWD'}\n",
    "team_names = []\n",
    "for i in range(len(decisions)):\n",
    "    if decisions[i].value() != 0:\n",
    "        team_names.append(names[i])\n",
    "        print(f'{names[i]} {pos_map[position[i]]}: {expected_scores[i]} points at ${prices[i]}')\n",
    "print('subs')\n",
    "for i in range(len(sub_decisions)):\n",
    "    if sub_decisions[i].value() != 0:\n",
    "        team_names.append(names[i])\n",
    "        print(f'{names[i]} {pos_map[position[i]]}: {expected_scores[i]} points at ${prices[i]}')"
   ]
  },
  {
   "cell_type": "code",
   "execution_count": null,
   "metadata": {},
   "outputs": [],
   "source": []
  }
 ],
 "metadata": {
  "kernelspec": {
   "display_name": "FPL",
   "language": "python",
   "name": "fpl"
  },
  "orig_nbformat": 4,
  "vscode": {
   "interpreter": {
    "hash": "90a7511018382100f99fbec5dd862156a5a55a1c910c3ea6d0786b8451725d06"
   }
  }
 },
 "nbformat": 4,
 "nbformat_minor": 2
}
