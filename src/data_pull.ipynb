{
 "cells": [
  {
   "cell_type": "code",
   "execution_count": 2,
   "metadata": {},
   "outputs": [
    {
     "name": "stderr",
     "output_type": "stream",
     "text": [
      "/var/folders/2v/vpx_7m4n5hndgbt2_txpfwxw0000gp/T/ipykernel_5774/3925928978.py:17: FutureWarning: Passing 'suffixes' which cause duplicate columns {'Unnamed: 1_level_0_# Pl_x', 'Unnamed: 0_level_0_Squad_x'} in the result is deprecated and will raise a MergeError in a future version.\n",
      "  squad = pd.merge(\n",
      "/var/folders/2v/vpx_7m4n5hndgbt2_txpfwxw0000gp/T/ipykernel_5774/3925928978.py:25: FutureWarning: Passing 'suffixes' which cause duplicate columns {'Unnamed: 1_level_0_# Pl_x'} in the result is deprecated and will raise a MergeError in a future version.\n",
      "  opponents = pd.merge(\n",
      "/var/folders/2v/vpx_7m4n5hndgbt2_txpfwxw0000gp/T/ipykernel_5774/3925928978.py:17: FutureWarning: Passing 'suffixes' which cause duplicate columns {'Unnamed: 1_level_0_# Pl_x', 'Unnamed: 2_level_0_90s_x', 'Unnamed: 0_level_0_Squad_x'} in the result is deprecated and will raise a MergeError in a future version.\n",
      "  squad = pd.merge(\n",
      "/var/folders/2v/vpx_7m4n5hndgbt2_txpfwxw0000gp/T/ipykernel_5774/3925928978.py:25: FutureWarning: Passing 'suffixes' which cause duplicate columns {'Unnamed: 1_level_0_# Pl_x', 'Unnamed: 2_level_0_90s_x'} in the result is deprecated and will raise a MergeError in a future version.\n",
      "  opponents = pd.merge(\n",
      "/var/folders/2v/vpx_7m4n5hndgbt2_txpfwxw0000gp/T/ipykernel_5774/3925928978.py:17: FutureWarning: Passing 'suffixes' which cause duplicate columns {'Unnamed: 1_level_0_# Pl_x', 'Unnamed: 2_level_0_90s_x', 'Unnamed: 0_level_0_Squad_x'} in the result is deprecated and will raise a MergeError in a future version.\n",
      "  squad = pd.merge(\n",
      "/var/folders/2v/vpx_7m4n5hndgbt2_txpfwxw0000gp/T/ipykernel_5774/3925928978.py:25: FutureWarning: Passing 'suffixes' which cause duplicate columns {'Unnamed: 1_level_0_# Pl_x', 'Unnamed: 2_level_0_90s_x'} in the result is deprecated and will raise a MergeError in a future version.\n",
      "  opponents = pd.merge(\n",
      "/var/folders/2v/vpx_7m4n5hndgbt2_txpfwxw0000gp/T/ipykernel_5774/3925928978.py:17: FutureWarning: Passing 'suffixes' which cause duplicate columns {'Unnamed: 1_level_0_# Pl_x', 'Unnamed: 0_level_0_Squad_x'} in the result is deprecated and will raise a MergeError in a future version.\n",
      "  squad = pd.merge(\n",
      "/var/folders/2v/vpx_7m4n5hndgbt2_txpfwxw0000gp/T/ipykernel_5774/3925928978.py:25: FutureWarning: Passing 'suffixes' which cause duplicate columns {'Unnamed: 1_level_0_# Pl_x'} in the result is deprecated and will raise a MergeError in a future version.\n",
      "  opponents = pd.merge(\n"
     ]
    }
   ],
   "source": [
    "import pandas as pd\n",
    "from modules import constants\n",
    "\n",
    "raw_data = pd.read_html(constants.FBREF_URLS)\n",
    "\n",
    "raw_data[1].columns = raw_data[1].columns.map(lambda x: f\"{x[0]}_{x[1]}\")\n",
    "squad = pd.merge(raw_data[0], raw_data[1], left_index=True, right_index=True, )\n",
    "opponents = None\n",
    "\n",
    "for i, table in enumerate(raw_data[2:]):\n",
    "    try:\n",
    "        table.columns = table.columns.map(lambda x: f\"{x[0]}_{x[1]}\")\n",
    "    except Exception as e:\n",
    "        pass\n",
    "\n",
    "    if i % 2 == 0:\n",
    "        squad = pd.merge(\n",
    "            squad, table, left_on=\"Squad\", right_on=\"Unnamed: 0_level_0_Squad\"\n",
    "        )\n",
    "    else:\n",
    "        if opponents is None:\n",
    "            opponents = table\n",
    "            continue\n",
    "        else:\n",
    "            opponents = pd.merge(\n",
    "                opponents,\n",
    "                table,\n",
    "                left_on=\"Unnamed: 0_level_0_Squad\",\n",
    "                right_on=\"Unnamed: 0_level_0_Squad\",\n",
    "            )\n",
    "\n",
    "squad = squad.T.drop_duplicates().T\n",
    "opponents = opponents.T.drop_duplicates().T\n"
   ]
  },
  {
   "cell_type": "code",
   "execution_count": 3,
   "metadata": {},
   "outputs": [],
   "source": [
    "import pandas\n",
    "from modules.constants import FBREF_SEARCH_URL, FBREF_PLAYER_LABELS\n",
    "\n",
    "def player_search(player_name:str):\n",
    "    tables = pd.read_html(constants.FBREF_SEARCH_URL+player_name.replace(' ','+'))\n",
    "    table_num = len(tables)\n",
    "    scout_num = int((table_num - 9) / 2)\n",
    "    table_names = []\n",
    "    for i in range(scout_num):\n",
    "        table_names.append(f'scout_{i}')\n",
    "        table_names.append(f'similar_{i}')\n",
    "        table_names.sort()\n",
    "\n",
    "    table_names += FBREF_PLAYER_LABELS\n",
    "    return dict(zip(table_names, tables))\n"
   ]
  },
  {
   "cell_type": "code",
   "execution_count": 4,
   "metadata": {},
   "outputs": [],
   "source": [
    "test = player_search('Lionel Messi')"
   ]
  }
 ],
 "metadata": {
  "kernelspec": {
   "display_name": "FPL",
   "language": "python",
   "name": "python3"
  },
  "language_info": {
   "codemirror_mode": {
    "name": "ipython",
    "version": 3
   },
   "file_extension": ".py",
   "mimetype": "text/x-python",
   "name": "python",
   "nbconvert_exporter": "python",
   "pygments_lexer": "ipython3",
   "version": "3.10.8 (main, Nov  1 2022, 14:18:21) [GCC 12.2.0]"
  },
  "orig_nbformat": 4,
  "vscode": {
   "interpreter": {
    "hash": "90a7511018382100f99fbec5dd862156a5a55a1c910c3ea6d0786b8451725d06"
   }
  }
 },
 "nbformat": 4,
 "nbformat_minor": 2
}
