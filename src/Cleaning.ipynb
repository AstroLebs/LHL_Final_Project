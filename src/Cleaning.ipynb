{
 "cells": [
  {
   "cell_type": "code",
   "execution_count": 1,
   "metadata": {},
   "outputs": [
    {
     "name": "stdout",
     "output_type": "stream",
     "text": [
      "(532, 221)\n"
     ]
    }
   ],
   "source": [
    "import pandas as pd\n",
    "import _pickle as cPickle\n",
    "\n",
    "keepers = [\n",
    "    pd.read_csv(\"../Data/FBREF_2020-21/\" + f)\n",
    "    for f in [\"keeper_21.csv\", \"keeper_adv_21.csv\"]\n",
    "]\n",
    "players = [\n",
    "    pd.read_csv(\"../Data/FBREF_2020-21/\" + f)\n",
    "    for f in [\n",
    "        \"passing_21.csv\",\n",
    "        \"possession_21.csv\",\n",
    "        \"player_stats_21.csv\",\n",
    "        \"misc_21.csv\",\n",
    "        \"defense_21.csv\",\n",
    "        \"shooting_21.csv\",\n",
    "        #\"playing_time_21.csv\",\n",
    "        \"passing_type_21.csv\",\n",
    "        \"gsc_21.csv\",\n",
    "    ]\n",
    "]\n",
    "data_df = players[0]\n",
    "for df in players[1:]:\n",
    "    data_df = pd.concat([data_df, df], axis = 1)\n",
    "\n",
    "print(data_df.shape)\n",
    "data_df = data_df.T.drop_duplicates().T\n",
    "\n",
    "data_df.drop([\"Rk\",\"Nation\",\"Pos\",\"Born\",\"Matches\",\"-9999\"], axis= 1, inplace=True)\n",
    "\n",
    "fpl = pd.read_csv('../Data/FPL_21.csv')[['first_name','second_name','element_type','total_points']]\n",
    "fpl = fpl.assign(Player = fpl.first_name + ' ' + fpl.second_name).drop(['first_name','second_name'], axis = 1)\n",
    "\n",
    "data_df = data_df.assign(FPL_points = data_df.Player.map(lambda x : fpl[fpl.Player == x].total_points.values[0] if x in fpl.Player.to_list() else 0))\n",
    "data_df = data_df.infer_objects()\n",
    "\n",
    "with open(r\"../Data/test_optimize.pickle\", \"wb\") as output_file:\n",
    "    cPickle.dump(data_df, output_file)"
   ]
  }
 ],
 "metadata": {
  "kernelspec": {
   "display_name": "FPL",
   "language": "python",
   "name": "python3"
  },
  "language_info": {
   "codemirror_mode": {
    "name": "ipython",
    "version": 3
   },
   "file_extension": ".py",
   "mimetype": "text/x-python",
   "name": "python",
   "nbconvert_exporter": "python",
   "pygments_lexer": "ipython3",
   "version": "3.10.8"
  },
  "orig_nbformat": 4,
  "vscode": {
   "interpreter": {
    "hash": "90a7511018382100f99fbec5dd862156a5a55a1c910c3ea6d0786b8451725d06"
   }
  }
 },
 "nbformat": 4,
 "nbformat_minor": 2
}
