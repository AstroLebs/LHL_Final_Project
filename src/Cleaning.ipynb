{
 "cells": [
  {
   "cell_type": "code",
   "execution_count": 68,
   "metadata": {},
   "outputs": [],
   "source": [
    "from modules import data_collection\n",
    "import pandas as pd\n",
    "import os\n",
    "\n",
    "import _pickle as cPickle\n",
    "dataframes = [pd.read_csv(\"../Data/2020-2021/\" + f) for f in os.listdir(\"../Data/2020-2021/\")]\n",
    "dataframes = [f.drop(['Rk','Nation','Pos','Born','Matches'], axis = 1) for f in dataframes]\n",
    "\n",
    "player_df = dataframes.pop()\n",
    "for table in dataframes:\n",
    "    player_df.merge(table, on='-9999')\n",
    "\n",
    "player_df = player_df.T.drop_duplicates().T\n",
    "player_df = player_df.fillna(0)\n",
    "\n",
    "player_df.drop(player_df.loc[player_df.Player.isin(player_df.Player.value_counts()[:8].index.to_list())].index, inplace = True)\n",
    "\n",
    "with open(r\"../Data/FBRef_Data.pickle\", \"wb\") as output_file:\n",
    "    cPickle.dump(player_df, output_file)"
   ]
  }
 ],
 "metadata": {
  "kernelspec": {
   "display_name": "Lighthouse",
   "language": "python",
   "name": "lighthouse"
  },
  "language_info": {
   "codemirror_mode": {
    "name": "ipython",
    "version": 3
   },
   "file_extension": ".py",
   "mimetype": "text/x-python",
   "name": "python",
   "nbconvert_exporter": "python",
   "pygments_lexer": "ipython3",
   "version": "3.9.12"
  },
  "orig_nbformat": 4,
  "vscode": {
   "interpreter": {
    "hash": "90a7511018382100f99fbec5dd862156a5a55a1c910c3ea6d0786b8451725d06"
   }
  }
 },
 "nbformat": 4,
 "nbformat_minor": 2
}
